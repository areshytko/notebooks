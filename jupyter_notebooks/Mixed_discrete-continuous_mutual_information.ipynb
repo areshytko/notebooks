{
 "cells": [
  {
   "cell_type": "markdown",
   "metadata": {},
   "source": [
    "## Mutual information estimator implementation for the mixed discrete-continuous random variables case\n",
    "\n",
    "see [Mutual Information between Discrete and Continuous Data Sets. Brian C. Ross](http://journals.plos.org/plosone/article?id=10.1371%2Fjournal.pone.0087357)"
   ]
  },
  {
   "cell_type": "code",
   "execution_count": 1,
   "metadata": {
    "collapsed": false
   },
   "outputs": [],
   "source": [
    "import numpy as np\n",
    "from scipy.special import digamma\n",
    "\n",
    "EPS = np.finfo(float).eps\n",
    "\n",
    "# @TODO change the implementation to a more efficient one:\n",
    "# split the original c by the corresponding d value and use scipy.spatial.cKDTree\n",
    "# for each sub array to efficiently compute distances\n",
    "def mutual_information_mixed(d, c, k=3):\n",
    "    assert(len(c) == len(d))\n",
    "\n",
    "    indexes = np.argsort(c)\n",
    "    c = c[indexes]\n",
    "    d = d[indexes]\n",
    "\n",
    "    def compute_k_distance(index):\n",
    "        dval = d[index]        \n",
    "    \n",
    "        def _compute_k_distance(l,r,i):\n",
    "            if (i == k):\n",
    "                return max(c[r] - c[index], c[index] - c[l])\n",
    "            \n",
    "            r_new = r + 1\n",
    "            while (r_new < len(c)):\n",
    "                if (d[r_new] == dval): break\n",
    "                r_new += 1\n",
    "        \n",
    "            l_new = l - 1\n",
    "            while (-1 < l_new): \n",
    "                if (d[l_new] == dval): break\n",
    "                l_new -= 1\n",
    "            \n",
    "            if (-1 < l_new and r_new < len(c)):\n",
    "                if c[index] - c[l_new] < c[r_new] - c[index]:\n",
    "                    l = l_new\n",
    "                else:\n",
    "                    r = r_new\n",
    "                return _compute_k_distance(l, r, i + 1)\n",
    "            elif (-1 < l_new):\n",
    "                return _compute_k_distance(l_new, r, i + 1)\n",
    "            elif (r_new < len(c)):\n",
    "                return _compute_k_distance(l, r_new, i + 1)\n",
    "            else:\n",
    "                return max(c[-1] - c[index], c[index] - c[0])\n",
    "          \n",
    "        return _compute_k_distance(index, index, 0)\n",
    "\n",
    "\n",
    "    def compute_M_i(index):\n",
    "        distance = compute_k_distance(index)\n",
    "        \n",
    "        l = index - 1\n",
    "        while (0 <= l):\n",
    "            if distance + EPS < c[index] - c[l]:\n",
    "                break\n",
    "            l -= 1\n",
    "        l += 1\n",
    "        \n",
    "        r = index + 1\n",
    "        while (r < len(c)):\n",
    "            if distance + EPS < c[r] - c[index]:\n",
    "                break\n",
    "            r += 1\n",
    "        r -= 1\n",
    "    \n",
    "        return r - l # the element itself doesn't count\n",
    "    \n",
    "    m = np.empty(len(c))\n",
    "    N_ds = dict()\n",
    "    \n",
    "    #loop over all elements computing M_i's and N_x's\n",
    "    for i, dval in enumerate(d):\n",
    "        m[i] = compute_M_i(i)\n",
    "        N_ds.setdefault(dval, 0)\n",
    "        N_ds[dval] += 1\n",
    "   \n",
    "    result = digamma(len(c)) - sum([n/len(c) * digamma(n) for n in N_ds.values()]) + digamma(k) - np.mean(digamma(m))\n",
    "    return result / np.log(2)"
   ]
  },
  {
   "cell_type": "code",
   "execution_count": 2,
   "metadata": {
    "collapsed": false
   },
   "outputs": [],
   "source": [
    "#testing\n",
    "\n",
    "N = 10000\n",
    "pdf_params = [(-0.4, 0.2), (0.5, 0.3), (0.8, 0.25)]\n",
    "p_x = np.array([0.3, 0.5, 0.2])\n",
    "\n",
    "def generate_data(mu, sigma, n):\n",
    "    return mu + sigma * np.random.randn(n)\n",
    "\n",
    "ys = [generate_data(mu, sigma, int(N*px)) for px, (mu, sigma) in zip(p_x, pdf_params)]"
   ]
  },
  {
   "cell_type": "code",
   "execution_count": 3,
   "metadata": {
    "collapsed": false
   },
   "outputs": [],
   "source": [
    "import scipy.integrate as integrate\n",
    "\n",
    "def mutual_info_mixed(p_x, p_yIx):\n",
    "    \n",
    "    def p_y(y):\n",
    "        return sum([px*pyIx(y) for px, pyIx in zip(p_x, p_yIx)])\n",
    "    \n",
    "    def make_integratum(pyIx):\n",
    "        def integratum(y):\n",
    "            return pyIx(y) * np.log2(pyIx(y)/p_y(y))\n",
    "        return integratum\n",
    "    \n",
    "    return sum(px*integrate.quad(make_integratum(pyIx), mu - 10*sigma, mu + 10*sigma)[0] for px, pyIx, (mu, sigma) in zip(p_x, p_yIx, pdf_params))"
   ]
  },
  {
   "cell_type": "code",
   "execution_count": 4,
   "metadata": {
    "collapsed": false
   },
   "outputs": [],
   "source": [
    "#test data for analytical case\n",
    "import matplotlib.mlab as mlab\n",
    "\n",
    "def make_pdfs(mu, sigma):\n",
    "    def pdf(x):\n",
    "        return mlab.normpdf(x, mu, sigma)\n",
    "    return pdf\n",
    "\n",
    "y_pdfs = [make_pdfs(mu, sigma) for mu, sigma in pdf_params]"
   ]
  },
  {
   "cell_type": "code",
   "execution_count": 5,
   "metadata": {
    "collapsed": false
   },
   "outputs": [
    {
     "data": {
      "image/png": "[encoded data removed]",
      "text/plain": [
       "<matplotlib.figure.Figure at 0x7fc80dceb080>"
      ]
     },
     "metadata": {},
     "output_type": "display_data"
    }
   ],
   "source": [
    "%matplotlib inline\n",
    "import matplotlib.pyplot as plt\n",
    "\n",
    "num_bins = 50\n",
    "\n",
    "for y_i, pdf, color in zip(ys, y_pdfs, ['green', 'red', 'blue']):\n",
    "    _, bins, _ = plt.hist(y_i, num_bins, normed=1, facecolor=color, alpha=0.5)\n",
    "    plt.plot(bins, pdf(bins), 'r--')\n",
    "\n",
    "# add plots for analytically defined functions\n",
    "    \n",
    "plt.show()"
   ]
  },
  {
   "cell_type": "code",
   "execution_count": 6,
   "metadata": {
    "collapsed": false
   },
   "outputs": [
    {
     "name": "stdout",
     "output_type": "stream",
     "text": [
      "10000\n",
      "10000 [ 0.  1.  2.] 0.9\n"
     ]
    }
   ],
   "source": [
    "y = np.hstack(ys)\n",
    "print(len(y))\n",
    "x = np.hstack(n*np.ones(len(x_i)) for x_i, n in zip(ys, range(len(p_x))))\n",
    "print(len(x), np.unique(x), np.mean(x))"
   ]
  },
  {
   "cell_type": "code",
   "execution_count": 7,
   "metadata": {
    "collapsed": false
   },
   "outputs": [
    {
     "data": {
      "text/plain": [
       "0.88433101297668637"
      ]
     },
     "execution_count": 7,
     "metadata": {},
     "output_type": "execute_result"
    }
   ],
   "source": [
    "mutual_information_mixed(x,y)"
   ]
  },
  {
   "cell_type": "code",
   "execution_count": 8,
   "metadata": {
    "collapsed": false
   },
   "outputs": [
    {
     "data": {
      "text/plain": [
       "0.8794982724139484"
      ]
     },
     "execution_count": 8,
     "metadata": {},
     "output_type": "execute_result"
    }
   ],
   "source": [
    "mutual_info_mixed(p_x, y_pdfs)"
   ]
  },
  {
   "cell_type": "markdown",
   "metadata": {},
   "source": [
    "[NPEET](https://github.com/gregversteeg/NPEET) needs to be manually installed\n",
    "\n",
    "*note: for Python 3 in order to work script needs to be fixed on line 29: wrap the map call into a list constructor*"
   ]
  },
  {
   "cell_type": "code",
   "execution_count": 9,
   "metadata": {
    "collapsed": false
   },
   "outputs": [
    {
     "data": {
      "text/plain": [
       "0.98140174624868382"
      ]
     },
     "execution_count": 9,
     "metadata": {},
     "output_type": "execute_result"
    }
   ],
   "source": [
    "import entropy_estimators as ee\n",
    "\n",
    "ee.entropy([[y_i] for y_i in y])"
   ]
  },
  {
   "cell_type": "code",
   "execution_count": 10,
   "metadata": {
    "collapsed": false
   },
   "outputs": [
    {
     "data": {
      "text/plain": [
       "1.4854752972273346"
      ]
     },
     "execution_count": 10,
     "metadata": {},
     "output_type": "execute_result"
    }
   ],
   "source": [
    "ee.entropyd(x)"
   ]
  },
  {
   "cell_type": "code",
   "execution_count": 11,
   "metadata": {
    "collapsed": true
   },
   "outputs": [],
   "source": [
    "def uncertainty_coefficient(d, c):\n",
    "    return mutual_information_mixed(d, c) / ee.entropyd(d)"
   ]
  },
  {
   "cell_type": "code",
   "execution_count": 12,
   "metadata": {
    "collapsed": false
   },
   "outputs": [
    {
     "data": {
      "text/plain": [
       "0.59531855873154238"
      ]
     },
     "execution_count": 12,
     "metadata": {},
     "output_type": "execute_result"
    }
   ],
   "source": [
    "uncertainty_coefficient(x,y)"
   ]
  },
  {
   "cell_type": "markdown",
   "metadata": {},
   "source": [
    "NPEET mixed mutual infromation implementation gives not such bad results"
   ]
  },
  {
   "cell_type": "code",
   "execution_count": 13,
   "metadata": {
    "collapsed": false
   },
   "outputs": [
    {
     "data": {
      "text/plain": [
       "0.88629050754652916"
      ]
     },
     "execution_count": 13,
     "metadata": {},
     "output_type": "execute_result"
    }
   ],
   "source": [
    "micd([[y_i] for y_i in y], x)"
   ]
  }
 ],
 "metadata": {
  "kernelspec": {
   "display_name": "Python 3",
   "language": "python",
   "name": "python3"
  },
  "language_info": {
   "codemirror_mode": {
    "name": "ipython",
    "version": 3
   },
   "file_extension": ".py",
   "mimetype": "text/x-python",
   "name": "python",
   "nbconvert_exporter": "python",
   "pygments_lexer": "ipython3",
   "version": "3.5.1"
  }
 },
 "nbformat": 4,
 "nbformat_minor": 0
}
