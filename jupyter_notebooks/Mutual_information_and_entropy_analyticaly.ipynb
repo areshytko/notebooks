{
 "cells": [
  {
   "cell_type": "code",
   "execution_count": 24,
   "metadata": {
    "collapsed": false
   },
   "outputs": [],
   "source": [
    "import numpy as np\n",
    "import matplotlib.mlab as mlab\n",
    "import scipy.integrate as integrate\n",
    "\n",
    "from __future__ import division\n",
    "\n",
    "\n",
    "### todo: use optimization algos to compute proper distributions\n",
    "### such that sum(p(x,y)) == 1, sum(p(x)) == 1, all p(x) > 0\n",
    "\n",
    "pdf_params = [(-0.4, 0.2), (0.5, 0.3), (0.8, 0.25)]\n",
    "p_x = np.array([0.3, 0.5, 0.2])\n",
    "\n",
    "def make_pdfs((mu, sigma)):\n",
    "    def pdf(x):\n",
    "        return mlab.normpdf(x, mu, sigma)\n",
    "    return pdf\n",
    "\n",
    "p_yIx = map(make_pdfs, pdf_params)\n",
    "\n",
    "def p_y(y):\n",
    "    return sum([px*pyIx(y) for px, pyIx in zip(p_x, p_yIx)])\n",
    "\n",
    "def mutual_info_mixed(p_x, p_yIx):\n",
    "       \n",
    "    def make_integratum(pyIx):\n",
    "        def integratum(y):\n",
    "            return pyIx(y) * np.log2(pyIx(y)/p_y(y))\n",
    "        return integratum\n",
    "    \n",
    "    return sum(px*integrate.quad(make_integratum(pyIx), mu - 10*sigma, mu + 10*sigma)[0] for px, pyIx, (mu, sigma) in zip(p_x, p_yIx, pdf_params))\n",
    "\n",
    "def discrete_entropy(p_x):\n",
    "    return -1*sum(p_x*np.log2(p_x))\n",
    "\n",
    "def continuous_entropy(p_y):\n",
    "    mu = np.mean([mu for mu, _ in pdf_params])\n",
    "    sigma = max([sigma for _, sigma in pdf_params])\n",
    "    return -1 * integrate.quad(lambda y: p_y(y) * np.log2(p_y(y)), mu - 10*sigma, mu + 10*sigma)[0]\n",
    "\n",
    "def uncertainty_coefficient(p_x, p_yIx):\n",
    "    return mutual_info_mixed(p_x, p_yIx) / discrete_entropy(p_x)\n",
    "\n",
    "def redundancy_measure(p_x, p_yIx, p_y):\n",
    "    return mutual_info_mixed(p_x, p_yIx) / (discrete_entropy(p_x) + continuous_entropy(p_y))"
   ]
  },
  {
   "cell_type": "code",
   "execution_count": 14,
   "metadata": {
    "collapsed": false
   },
   "outputs": [
    {
     "data": {
      "text/plain": [
       "0.8794982724139484"
      ]
     },
     "execution_count": 14,
     "metadata": {},
     "output_type": "execute_result"
    }
   ],
   "source": [
    "mutual_info_mixed(p_x, p_yIx)"
   ]
  },
  {
   "cell_type": "code",
   "execution_count": 7,
   "metadata": {
    "collapsed": false
   },
   "outputs": [
    {
     "data": {
      "text/plain": [
       "1.4854752972273344"
      ]
     },
     "execution_count": 7,
     "metadata": {},
     "output_type": "execute_result"
    }
   ],
   "source": [
    "discrete_entropy(p_x)"
   ]
  },
  {
   "cell_type": "code",
   "execution_count": 13,
   "metadata": {
    "collapsed": false
   },
   "outputs": [
    {
     "data": {
      "text/plain": [
       "0.961532632045278"
      ]
     },
     "execution_count": 13,
     "metadata": {},
     "output_type": "execute_result"
    }
   ],
   "source": [
    "continuous_entropy(p_y)"
   ]
  },
  {
   "cell_type": "code",
   "execution_count": 25,
   "metadata": {
    "collapsed": false
   },
   "outputs": [
    {
     "data": {
      "text/plain": [
       "0.59206522926065974"
      ]
     },
     "execution_count": 25,
     "metadata": {},
     "output_type": "execute_result"
    }
   ],
   "source": [
    "uncertainty_coefficient(p_x, p_yIx)"
   ]
  },
  {
   "cell_type": "code",
   "execution_count": 17,
   "metadata": {
    "collapsed": false
   },
   "outputs": [
    {
     "data": {
      "text/plain": [
       "1.0"
      ]
     },
     "execution_count": 17,
     "metadata": {},
     "output_type": "execute_result"
    }
   ],
   "source": [
    "mu = np.mean([mu for mu, _ in pdf_params])\n",
    "sigma = max([sigma for _, sigma in pdf_params])\n",
    "integrate.quad(p_y, mu - 10*sigma, mu + 10*sigma)[0]"
   ]
  },
  {
   "cell_type": "code",
   "execution_count": 8,
   "metadata": {
    "collapsed": false
   },
   "outputs": [
    {
     "data": {
      "image/png": "[encoded data removed]",
      "text/plain": [
       "<matplotlib.figure.Figure at 0x7f7528189350>"
      ]
     },
     "metadata": {},
     "output_type": "display_data"
    }
   ],
   "source": [
    "%matplotlib inline\n",
    "\n",
    "import matplotlib.pyplot as plt\n",
    "\n",
    "x = np.linspace(-1, 2, 5000)\n",
    "\n",
    "for y, color in zip(p_yIx, ['r', 'g', 'b']):\n",
    "    plt.plot(x, y(x), color)\n",
    "\n",
    "plt.show()"
   ]
  }
 ],
 "metadata": {
  "kernelspec": {
   "display_name": "Python 2",
   "language": "python",
   "name": "python2"
  },
  "language_info": {
   "codemirror_mode": {
    "name": "ipython",
    "version": 2
   },
   "file_extension": ".py",
   "mimetype": "text/x-python",
   "name": "python",
   "nbconvert_exporter": "python",
   "pygments_lexer": "ipython2",
   "version": "2.7.11"
  }
 },
 "nbformat": 4,
 "nbformat_minor": 0
}
