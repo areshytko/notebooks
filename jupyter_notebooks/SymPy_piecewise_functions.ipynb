{
 "cells": [
  {
   "cell_type": "markdown",
   "metadata": {},
   "source": [
    "# Piecewise functions in Sympy"
   ]
  },
  {
   "cell_type": "code",
   "execution_count": 75,
   "metadata": {
    "collapsed": true
   },
   "outputs": [],
   "source": [
    "from IPython.display import display\n",
    "\n",
    "from sympy.interactive import printing\n",
    "printing.init_printing(use_latex='mathjax')\n",
    "\n",
    "from __future__ import division\n",
    "import sympy as sym\n",
    "from sympy import *\n",
    "x, y, z = symbols(\"x y z\") \n",
    "k, m, n = symbols(\"k m n\", integer=True)\n",
    "f, g, h = map(Function, 'fgh')"
   ]
  },
  {
   "cell_type": "code",
   "execution_count": 54,
   "metadata": {
    "collapsed": false
   },
   "outputs": [
    {
     "data": {
      "text/latex": [
       "$$\\begin{cases} 0 & \\text{for}\\: k \\leq 0 \\\\y & \\text{for}\\: k \\leq 1 \\\\y^{2} & \\text{for}\\: k \\leq 2 \\\\y^{3} & \\text{for}\\: k \\leq 3 \\\\0 & \\text{for}\\: k > 3 \\end{cases}$$"
      ],
      "text/plain": [
       "⎧0   for k ≤ 0\n",
       "⎪             \n",
       "⎪y   for k ≤ 1\n",
       "⎪             \n",
       "⎪ 2           \n",
       "⎨y   for k ≤ 2\n",
       "⎪             \n",
       "⎪ 3           \n",
       "⎪y   for k ≤ 3\n",
       "⎪             \n",
       "⎩0   for k > 3"
      ]
     },
     "execution_count": 54,
     "metadata": {},
     "output_type": "execute_result"
    }
   ],
   "source": [
    "p_yIk = Piecewise((0, k <= 0), (y, k <= 1), (y**2, k <= 2), (y**3, k <= 3), (0, k > 3))\n",
    "p_yIk"
   ]
  },
  {
   "cell_type": "code",
   "execution_count": 55,
   "metadata": {
    "collapsed": false
   },
   "outputs": [
    {
     "data": {
      "text/latex": [
       "$$y^{2}$$"
      ],
      "text/plain": [
       " 2\n",
       "y "
      ]
     },
     "execution_count": 55,
     "metadata": {},
     "output_type": "execute_result"
    }
   ],
   "source": [
    "p_yIk.subs(k,2)"
   ]
  },
  {
   "cell_type": "code",
   "execution_count": 63,
   "metadata": {
    "collapsed": false
   },
   "outputs": [
    {
     "data": {
      "text/latex": [
       "$$\\sum_{k=1}^{3} \\begin{cases} 0 & \\text{for}\\: k \\leq 0 \\\\y & \\text{for}\\: k \\leq 1 \\\\y^{2} & \\text{for}\\: k \\leq 2 \\\\y^{3} & \\text{for}\\: k \\leq 3 \\\\0 & \\text{for}\\: k > 3 \\end{cases}$$"
      ],
      "text/plain": [
       "   3                   \n",
       "________               \n",
       "╲                      \n",
       " ╲       ⎧0   for k ≤ 0\n",
       "  ╲      ⎪             \n",
       "   ╲     ⎪y   for k ≤ 1\n",
       "    ╲    ⎪             \n",
       "     ╲   ⎪ 2           \n",
       "      ╲  ⎨y   for k ≤ 2\n",
       "      ╱  ⎪             \n",
       "     ╱   ⎪ 3           \n",
       "    ╱    ⎪y   for k ≤ 3\n",
       "   ╱     ⎪             \n",
       "  ╱      ⎩0   for k > 3\n",
       " ╱                     \n",
       "╱                      \n",
       "‾‾‾‾‾‾‾‾               \n",
       " k = 1                 "
      ]
     },
     "execution_count": 63,
     "metadata": {},
     "output_type": "execute_result"
    }
   ],
   "source": [
    "p_summed = Sum(p_yIk, (k, 1, 3))\n",
    "p_summed"
   ]
  },
  {
   "cell_type": "code",
   "execution_count": 68,
   "metadata": {
    "collapsed": false
   },
   "outputs": [
    {
     "data": {
      "text/latex": [
       "$$39.0$$"
      ],
      "text/plain": [
       "39.0000000000000"
      ]
     },
     "execution_count": 68,
     "metadata": {},
     "output_type": "execute_result"
    }
   ],
   "source": [
    "N(p_summed.subs(y, 3))"
   ]
  },
  {
   "cell_type": "code",
   "execution_count": 69,
   "metadata": {
    "collapsed": false
   },
   "outputs": [
    {
     "data": {
      "text/latex": [
       "$$\\begin{cases} 0 & \\text{for}\\: k \\leq 0 \\\\\\int \\sum_{k=1}^{3} y\\, dy & \\text{for}\\: k \\leq 1 \\\\\\int \\sum_{k=1}^{3} y^{2}\\, dy & \\text{for}\\: k \\leq 2 \\\\\\int \\sum_{k=1}^{3} y^{3}\\, dy & \\text{for}\\: k \\leq 3 \\\\0 & \\text{for}\\: k > 3 \\end{cases}$$"
      ],
      "text/plain": [
       "⎧      0        for k ≤ 0\n",
       "⎪                        \n",
       "⎪⌠                       \n",
       "⎪⎮   3                   \n",
       "⎪⎮  ___                  \n",
       "⎪⎮  ╲                    \n",
       "⎪⎮   ╲   y               \n",
       "⎪⎮   ╱     dy   for k ≤ 1\n",
       "⎪⎮  ╱                    \n",
       "⎪⎮  ‾‾‾                  \n",
       "⎪⎮ k = 1                 \n",
       "⎪⌡                       \n",
       "⎪                        \n",
       "⎪⌠                       \n",
       "⎪⎮   3                   \n",
       "⎪⎮  ___                  \n",
       "⎪⎮  ╲                    \n",
       "⎪⎮   ╲    2              \n",
       "⎨⎮   ╱   y  dy  for k ≤ 2\n",
       "⎪⎮  ╱                    \n",
       "⎪⎮  ‾‾‾                  \n",
       "⎪⎮ k = 1                 \n",
       "⎪⌡                       \n",
       "⎪                        \n",
       "⎪⌠                       \n",
       "⎪⎮   3                   \n",
       "⎪⎮  ___                  \n",
       "⎪⎮  ╲                    \n",
       "⎪⎮   ╲    3              \n",
       "⎪⎮   ╱   y  dy  for k ≤ 3\n",
       "⎪⎮  ╱                    \n",
       "⎪⎮  ‾‾‾                  \n",
       "⎪⎮ k = 1                 \n",
       "⎪⌡                       \n",
       "⎪                        \n",
       "⎪      0        for k > 3\n",
       "⎩                        "
      ]
     },
     "execution_count": 69,
     "metadata": {},
     "output_type": "execute_result"
    }
   ],
   "source": [
    "integrate(p_summed, y)"
   ]
  },
  {
   "cell_type": "markdown",
   "metadata": {},
   "source": [
    "Sympy can't normally figure out how to integrate this piecewise function, but given this sum explicitly it works just fine:"
   ]
  },
  {
   "cell_type": "code",
   "execution_count": 72,
   "metadata": {
    "collapsed": false
   },
   "outputs": [
    {
     "data": {
      "text/latex": [
       "$$\\frac{y^{4}}{4} + \\frac{y^{3}}{3} + \\frac{y^{2}}{2}$$"
      ],
      "text/plain": [
       " 4    3    2\n",
       "y    y    y \n",
       "── + ── + ──\n",
       "4    3    2 "
      ]
     },
     "execution_count": 72,
     "metadata": {},
     "output_type": "execute_result"
    }
   ],
   "source": [
    "integrate(y + y**2 + y**3, y)"
   ]
  },
  {
   "cell_type": "markdown",
   "metadata": {},
   "source": [
    "you can you ordinary functional programming tricks to work with varying some and construct symbolic expressions programmatically without introducing piecewise functions for this task:"
   ]
  },
  {
   "cell_type": "code",
   "execution_count": 74,
   "metadata": {
    "collapsed": false
   },
   "outputs": [
    {
     "data": {
      "text/latex": [
       "$$y^{3} + y^{2} + y$$"
      ],
      "text/plain": [
       " 3    2    \n",
       "y  + y  + y"
      ]
     },
     "execution_count": 74,
     "metadata": {},
     "output_type": "execute_result"
    }
   ],
   "source": [
    "from functools import reduce\n",
    "\n",
    "reduce(lambda x,y : x + y, [y,y**2,y**3])"
   ]
  }
 ],
 "metadata": {
  "kernelspec": {
   "display_name": "Python 2",
   "language": "python",
   "name": "python2"
  },
  "language_info": {
   "codemirror_mode": {
    "name": "ipython",
    "version": 2
   },
   "file_extension": ".py",
   "mimetype": "text/x-python",
   "name": "python",
   "nbconvert_exporter": "python",
   "pygments_lexer": "ipython2",
   "version": "2.7.11"
  }
 },
 "nbformat": 4,
 "nbformat_minor": 0
}
