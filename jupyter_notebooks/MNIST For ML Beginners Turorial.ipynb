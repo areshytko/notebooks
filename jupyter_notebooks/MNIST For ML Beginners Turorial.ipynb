{
 "cells": [
  {
   "cell_type": "markdown",
   "metadata": {},
   "source": [
    "# MNIST For ML Beginners Turorial\n",
    "[original](https://www.tensorflow.org/get_started/mnist/beginners)\n",
    "\n",
    "\n",
    "## Data\n",
    "\n",
    "The MNIST data is split into three parts: 55,000 data points of training data (mnist.train), 10,000 points of test data (mnist.test), and 5,000 points of validation data (mnist.validation)\n",
    "\n",
    "Both the training set and test set contain images and their corresponding labels; for example the training images are mnist.train.images and the training labels are mnist.train.labels.\n",
    "\n",
    "Each image is 28 pixels by 28 pixels. We can flatten this array into a vector of 28x28 = 784 numbers."
   ]
  },
  {
   "cell_type": "code",
   "execution_count": 1,
   "metadata": {
    "collapsed": false
   },
   "outputs": [
    {
     "ename": "NameError",
     "evalue": "name 'FLAGS' is not defined",
     "output_type": "error",
     "traceback": [
      "\u001b[0;31m---------------------------------------------------------------------------\u001b[0m",
      "\u001b[0;31mNameError\u001b[0m                                 Traceback (most recent call last)",
      "\u001b[0;32m<ipython-input-1-2f2a19050860>\u001b[0m in \u001b[0;36m<module>\u001b[0;34m()\u001b[0m\n\u001b[1;32m      1\u001b[0m \u001b[0;32mfrom\u001b[0m \u001b[0mtensorflow\u001b[0m\u001b[0;34m.\u001b[0m\u001b[0mexamples\u001b[0m\u001b[0;34m.\u001b[0m\u001b[0mtutorials\u001b[0m\u001b[0;34m.\u001b[0m\u001b[0mmnist\u001b[0m \u001b[0;32mimport\u001b[0m \u001b[0minput_data\u001b[0m\u001b[0;34m\u001b[0m\u001b[0m\n\u001b[0;32m----> 2\u001b[0;31m \u001b[0mmnist\u001b[0m \u001b[0;34m=\u001b[0m \u001b[0minput_data\u001b[0m\u001b[0;34m.\u001b[0m\u001b[0mread_data_sets\u001b[0m\u001b[0;34m(\u001b[0m\u001b[0mFLAGS\u001b[0m\u001b[0;34m.\u001b[0m\u001b[0mdata_dir\u001b[0m\u001b[0;34m,\u001b[0m \u001b[0mone_hot\u001b[0m\u001b[0;34m=\u001b[0m\u001b[0;32mTrue\u001b[0m\u001b[0;34m)\u001b[0m\u001b[0;34m\u001b[0m\u001b[0m\n\u001b[0m\u001b[1;32m      3\u001b[0m \u001b[0mtype\u001b[0m\u001b[0;34m(\u001b[0m\u001b[0mmnist\u001b[0m\u001b[0;34m)\u001b[0m\u001b[0;34m\u001b[0m\u001b[0m\n",
      "\u001b[0;31mNameError\u001b[0m: name 'FLAGS' is not defined"
     ]
    }
   ],
   "source": [
    "from tensorflow.examples.tutorials.mnist import input_data\n",
    "mnist = input_data.read_data_sets(FLAGS.data_dir, one_hot=True)\n",
    "type(mnist)"
   ]
  },
  {
   "cell_type": "code",
   "execution_count": 22,
   "metadata": {
    "collapsed": false
   },
   "outputs": [],
   "source": [
    "import argparse\n",
    "import tensorflow as tf\n",
    "from tensorflow.examples.tutorials.mnist import input_data\n",
    "from typing import Optional\n",
    "from types import SimpleNamespace\n",
    "\n",
    "\n",
    "def init_data():\n",
    "    global mnist\n",
    "    mnist = input_data.read_data_sets(FLAGS.data_dir, one_hot=True)\n",
    "\n",
    "\n",
    "def init_model():\n",
    "    global x, y\n",
    "    x = tf.placeholder(tf.float32, [None, 784])\n",
    "    W = tf.Variable(tf.zeros([784, 10]))\n",
    "    b = tf.Variable(tf.zeros([10]))\n",
    "    y = tf.matmul(x, W) + b\n",
    "\n",
    "\n",
    "def init_train():\n",
    "    global y_, loss, train_op\n",
    "    y_ = tf.placeholder(tf.float32, [None, 10])\n",
    "    loss = tf.reduce_mean(tf.nn.softmax_cross_entropy_with_logits(labels=y_, logits=y))\n",
    "    train_op = tf.train.GradientDescentOptimizer(0.5).minimize(loss)\n",
    "\n",
    "\n",
    "def train():\n",
    "    sess.run(tf.global_variables_initializer())\n",
    "    for _ in range(1000):\n",
    "        batch_xs, batch_ys = mnist.train.next_batch(100)\n",
    "        sess.run(train_op, feed_dict={x: batch_xs, y_: batch_ys})\n",
    "\n",
    "\n",
    "def init_evaluate():\n",
    "    global correct_prediction, accuracy\n",
    "    correct_prediction = tf.equal(tf.argmax(y, 1), tf.argmax(y_, 1))\n",
    "    accuracy = tf.reduce_mean(tf.cast(correct_prediction, tf.float32))\n",
    "\n",
    "\n",
    "def evaluate():\n",
    "    print(sess.run(accuracy, feed_dict={x: mnist.test.images,\n",
    "                                        y_: mnist.test.labels}))\n",
    "\n",
    "    \n",
    "def init_flags(flags: Optional[dict] = None):\n",
    "    global FLAGS\n",
    "    \n",
    "    if flags is None:\n",
    "        parser = argparse.ArgumentParser()\n",
    "        parser.add_argument(\"--prepare\", dest='just_data', action=\"store_true\")\n",
    "        parser.add_argument(\"--evaluate_only\", action=\"store_true\")\n",
    "        parser.add_argument('--data_dir',\n",
    "                            type=str,\n",
    "                            default='/tmp/tensorflow/mnist/input_data',\n",
    "                            help='Directory for storing input data')\n",
    "        FLAGS, _ = parser.parse_known_args()\n",
    "    else:\n",
    "        FLAGS = SimpleNamespace(**flags)\n",
    "\n",
    "\n",
    "def main(flags: Optional[dict] = None):\n",
    "    init_flags(flags)\n",
    "    init_data()\n",
    "\n",
    "    if FLAGS.just_data:\n",
    "        exit()\n",
    "    \n",
    "    global sess\n",
    "    sess = tf.Session()\n",
    "    init_model()\n",
    "    \n",
    "    if not FLAGS.evaluate_only:\n",
    "        init_train()\n",
    "        train()\n",
    "    \n",
    "    init_evaluate()\n",
    "    evaluate()\n"
   ]
  },
  {
   "cell_type": "code",
   "execution_count": 23,
   "metadata": {
    "collapsed": false
   },
   "outputs": [
    {
     "name": "stdout",
     "output_type": "stream",
     "text": [
      "Extracting /tmp/tensorflow/mnist/input_data/train-images-idx3-ubyte.gz\n",
      "Extracting /tmp/tensorflow/mnist/input_data/train-labels-idx1-ubyte.gz\n",
      "Extracting /tmp/tensorflow/mnist/input_data/t10k-images-idx3-ubyte.gz\n",
      "Extracting /tmp/tensorflow/mnist/input_data/t10k-labels-idx1-ubyte.gz\n",
      "0.9171\n"
     ]
    }
   ],
   "source": [
    "main()"
   ]
  }
 ],
 "metadata": {
  "anaconda-cloud": {},
  "kernelspec": {
   "display_name": "Python [default]",
   "language": "python",
   "name": "python3"
  },
  "language_info": {
   "codemirror_mode": {
    "name": "ipython",
    "version": 3
   },
   "file_extension": ".py",
   "mimetype": "text/x-python",
   "name": "python",
   "nbconvert_exporter": "python",
   "pygments_lexer": "ipython3",
   "version": "3.5.2"
  }
 },
 "nbformat": 4,
 "nbformat_minor": 1
}
